{
  "nbformat": 4,
  "nbformat_minor": 0,
  "metadata": {
    "colab": {
      "provenance": [],
      "authorship_tag": "ABX9TyMVOSAmEKXSaOfm5TEAghAl",
      "include_colab_link": true
    },
    "kernelspec": {
      "name": "python3",
      "display_name": "Python 3"
    },
    "language_info": {
      "name": "python"
    }
  },
  "cells": [
    {
      "cell_type": "markdown",
      "metadata": {
        "id": "view-in-github",
        "colab_type": "text"
      },
      "source": [
        "<a href=\"https://colab.research.google.com/github/LiBin1018/deeplearning_ch10/blob/main/%ED%8F%90%EC%95%94_%EC%88%98%EC%88%A0_%ED%99%98%EC%9E%90%EC%9D%98_%EC%83%9D%EC%A1%B4%EC%9C%A8_%EC%98%88%EC%B8%A1%ED%95%98%EA%B8%B0.ipynb\" target=\"_parent\"><img src=\"https://colab.research.google.com/assets/colab-badge.svg\" alt=\"Open In Colab\"/></a>"
      ]
    },
    {
      "cell_type": "code",
      "execution_count": null,
      "metadata": {
        "colab": {
          "base_uri": "https://localhost:8080/"
        },
        "id": "j-QQAEqwbohw",
        "outputId": "b26ccb1c-8757-41a5-957f-626fe781d114"
      },
      "outputs": [
        {
          "output_type": "stream",
          "name": "stdout",
          "text": [
            "Cloning into 'data'...\n",
            "warning: redirecting to https://github.com/taehojo/data.git/\n",
            "remote: Enumerating objects: 21, done.\u001b[K\n",
            "remote: Counting objects: 100% (21/21), done.\u001b[K\n",
            "remote: Compressing objects: 100% (18/18), done.\u001b[K\n",
            "remote: Total 21 (delta 3), reused 20 (delta 2), pack-reused 0\u001b[K\n",
            "Unpacking objects: 100% (21/21), 460.93 KiB | 6.58 MiB/s, done.\n",
            "Epoch 1/5\n",
            "30/30 [==============================] - 2s 3ms/step - loss: 11.6815 - accuracy: 0.1489\n",
            "Epoch 2/5\n",
            "30/30 [==============================] - 0s 3ms/step - loss: 1.8786 - accuracy: 0.4553\n",
            "Epoch 3/5\n",
            "30/30 [==============================] - 0s 5ms/step - loss: 0.5135 - accuracy: 0.8468\n",
            "Epoch 4/5\n",
            "30/30 [==============================] - 0s 5ms/step - loss: 0.4552 - accuracy: 0.8468\n",
            "Epoch 5/5\n",
            "30/30 [==============================] - 0s 4ms/step - loss: 0.4423 - accuracy: 0.8489\n"
          ]
        }
      ],
      "source": [
        "#텐서플로 라이브러리 안에 있는 케라스 API에서 필요한 함수들 불러오기\n",
        "from tensorflow.keras.models import Sequential\n",
        "from tensorflow.keras.layers import Dense\n",
        "\n",
        "#데이터를 다루는 데 필요한 라이브러리 불러오기\n",
        "import numpy as np\n",
        "\n",
        "#깃허브에 준비된 데이터 가져오기\n",
        "!git clone http://github.com/taehojo/data.git\n",
        "\n",
        "#준비된 수술 환자 데이터 불러오기\n",
        "Data_set = np.loadtxt(\"./data/ThoraricSurgery3.csv\", delimiter=',')\n",
        "\n",
        "#환자의 진찰 기록을 X로 지정\n",
        "X = Data_set[:, 0:16]\n",
        "#수술 1년 후 사망/생존 여부를 y로 지정\n",
        "y = Data_set[:, 16]\n",
        "\n",
        "#딥러닝 모델 구조 결정\n",
        "model = Sequential()\n",
        "model.add(Dense(30, input_dim=16, activation='relu'))\n",
        "model.add(Dense(1, activation='sigmoid'))\n",
        "\n",
        "#딥러닝 모델 실행\n",
        "model.compile(loss='binary_crossentropy', optimizer='adam', metrics=['accuracy'])\n",
        "history = model.fit(X, y, epochs=5, batch_size=16)"
      ]
    },
    {
      "cell_type": "markdown",
      "source": [
        "*   model = Sequential() : 딥러닝의 구조를 짜고 층을 설정하는 부분\n",
        "*   model.compile() : 앞에서 정한 모델을 컴퓨터가 알아들을 수 있게 컴파일하는 부분\n",
        "*   model.fit() : 모델을 수행하는 부분\n",
        "\n"
      ],
      "metadata": {
        "id": "JKo6cw3xdJhU"
      }
    }
  ]
}